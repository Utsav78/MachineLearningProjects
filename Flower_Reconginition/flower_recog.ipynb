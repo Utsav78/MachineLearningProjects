{
 "cells": [
  {
   "cell_type": "code",
   "execution_count": 10,
   "metadata": {},
   "outputs": [],
   "source": [
    "# importing library"
   ]
  },
  {
   "cell_type": "code",
   "execution_count": 11,
   "metadata": {},
   "outputs": [],
   "source": [
    "import numpy as np \n",
    "import tensorflow as tf\n",
    "from keras.preprocessing.image import ImageDataGenerator "
   ]
  },
  {
   "cell_type": "code",
   "execution_count": 12,
   "metadata": {},
   "outputs": [],
   "source": [
    "#Data preprocessing"
   ]
  },
  {
   "cell_type": "code",
   "execution_count": 13,
   "metadata": {},
   "outputs": [],
   "source": [
    "#Training image processing"
   ]
  },
  {
   "cell_type": "code",
   "execution_count": 14,
   "metadata": {},
   "outputs": [
    {
     "name": "stdout",
     "output_type": "stream",
     "text": [
      "Found 3509 images belonging to 5 classes.\n"
     ]
    }
   ],
   "source": [
    "train_datagen = ImageDataGenerator(\n",
    "        rescale=1./255,\n",
    "        shear_range=0.2,\n",
    "        zoom_range=0.2,\n",
    "        horizontal_flip=True)\n",
    "training_set = train_datagen.flow_from_directory(\n",
    "        'training_set',\n",
    "        target_size=(64, 64),\n",
    "        batch_size=32,\n",
    "        class_mode='categorical')"
   ]
  },
  {
   "cell_type": "code",
   "execution_count": 15,
   "metadata": {},
   "outputs": [],
   "source": [
    "#testing image processing "
   ]
  },
  {
   "cell_type": "code",
   "execution_count": 17,
   "metadata": {},
   "outputs": [
    {
     "name": "stdout",
     "output_type": "stream",
     "text": [
      "Found 808 images belonging to 5 classes.\n"
     ]
    }
   ],
   "source": [
    "test_datagen = ImageDataGenerator(rescale=1./255)\n",
    "test_set = test_datagen.flow_from_directory(\n",
    "        'testing_set',\n",
    "        target_size=(64, 64),\n",
    "        batch_size=32,\n",
    "        class_mode='categorical')"
   ]
  },
  {
   "cell_type": "code",
   "execution_count": 18,
   "metadata": {},
   "outputs": [],
   "source": [
    "#building model\n"
   ]
  },
  {
   "cell_type": "code",
   "execution_count": 19,
   "metadata": {},
   "outputs": [],
   "source": [
    "cnn = tf.keras.models.Sequential()"
   ]
  },
  {
   "cell_type": "code",
   "execution_count": 20,
   "metadata": {},
   "outputs": [],
   "source": [
    "cnn.add(tf.keras.layers.Conv2D(filters=64 , kernel_size=3 , activation='relu' , input_shape=[64,64,3]))\n",
    "cnn.add(tf.keras.layers.MaxPool2D(pool_size=2,strides=2))"
   ]
  },
  {
   "cell_type": "code",
   "execution_count": 21,
   "metadata": {},
   "outputs": [],
   "source": [
    "cnn.add(tf.keras.layers.Conv2D(filters=64 , kernel_size=3 , activation='relu' ))\n",
    "cnn.add(tf.keras.layers.MaxPool2D(pool_size=2 , strides=2))"
   ]
  },
  {
   "cell_type": "code",
   "execution_count": 22,
   "metadata": {},
   "outputs": [],
   "source": [
    "cnn.add(tf.keras.layers.Dropout(0.5))\n"
   ]
  },
  {
   "cell_type": "code",
   "execution_count": 23,
   "metadata": {},
   "outputs": [],
   "source": [
    "cnn.add(tf.keras.layers.Flatten())"
   ]
  },
  {
   "cell_type": "code",
   "execution_count": 24,
   "metadata": {},
   "outputs": [],
   "source": [
    "cnn.add(tf.keras.layers.Dense(units=128, activation='relu'))"
   ]
  },
  {
   "cell_type": "code",
   "execution_count": 25,
   "metadata": {},
   "outputs": [],
   "source": [
    "cnn.add(tf.keras.layers.Dense(units=5 , activation='softmax'))"
   ]
  },
  {
   "cell_type": "code",
   "execution_count": 26,
   "metadata": {},
   "outputs": [],
   "source": [
    "cnn.compile(optimizer = 'rmsprop' , loss = 'categorical_crossentropy' , metrics = ['accuracy'])"
   ]
  },
  {
   "cell_type": "code",
   "execution_count": 27,
   "metadata": {},
   "outputs": [
    {
     "name": "stdout",
     "output_type": "stream",
     "text": [
      "Epoch 1/30\n",
      "110/110 [==============================] - 31s 272ms/step - loss: 1.5626 - accuracy: 0.3494 - val_loss: 1.3556 - val_accuracy: 0.4839\n",
      "Epoch 2/30\n",
      "110/110 [==============================] - 26s 232ms/step - loss: 1.1238 - accuracy: 0.5473 - val_loss: 1.1934 - val_accuracy: 0.5186\n",
      "Epoch 3/30\n",
      "110/110 [==============================] - 25s 230ms/step - loss: 1.0218 - accuracy: 0.5993 - val_loss: 1.0753 - val_accuracy: 0.5854\n",
      "Epoch 4/30\n",
      "110/110 [==============================] - 25s 225ms/step - loss: 0.9148 - accuracy: 0.6403 - val_loss: 0.9873 - val_accuracy: 0.6312\n",
      "Epoch 5/30\n",
      "110/110 [==============================] - 26s 234ms/step - loss: 0.8670 - accuracy: 0.6535 - val_loss: 0.9406 - val_accuracy: 0.6646\n",
      "Epoch 6/30\n",
      "110/110 [==============================] - 26s 231ms/step - loss: 0.8244 - accuracy: 0.6812 - val_loss: 0.9648 - val_accuracy: 0.6374\n",
      "Epoch 7/30\n",
      "110/110 [==============================] - 26s 231ms/step - loss: 0.7914 - accuracy: 0.6979 - val_loss: 0.9081 - val_accuracy: 0.6757\n",
      "Epoch 8/30\n",
      "110/110 [==============================] - 25s 227ms/step - loss: 0.7416 - accuracy: 0.7122 - val_loss: 0.8201 - val_accuracy: 0.7166\n",
      "Epoch 9/30\n",
      "110/110 [==============================] - 25s 226ms/step - loss: 0.7192 - accuracy: 0.7246 - val_loss: 0.8561 - val_accuracy: 0.6894\n",
      "Epoch 10/30\n",
      "110/110 [==============================] - 25s 228ms/step - loss: 0.6894 - accuracy: 0.7441 - val_loss: 0.8468 - val_accuracy: 0.6993\n",
      "Epoch 11/30\n",
      "110/110 [==============================] - 25s 227ms/step - loss: 0.6509 - accuracy: 0.7499 - val_loss: 0.8555 - val_accuracy: 0.7042\n",
      "Epoch 12/30\n",
      "110/110 [==============================] - 25s 227ms/step - loss: 0.6525 - accuracy: 0.7521 - val_loss: 1.0133 - val_accuracy: 0.6807\n",
      "Epoch 13/30\n",
      "110/110 [==============================] - 25s 227ms/step - loss: 0.6351 - accuracy: 0.7539 - val_loss: 0.8429 - val_accuracy: 0.7116\n",
      "Epoch 14/30\n",
      "110/110 [==============================] - 25s 227ms/step - loss: 0.5726 - accuracy: 0.7725 - val_loss: 0.8301 - val_accuracy: 0.7191\n",
      "Epoch 15/30\n",
      "110/110 [==============================] - 25s 227ms/step - loss: 0.5862 - accuracy: 0.7817 - val_loss: 0.8443 - val_accuracy: 0.7252\n",
      "Epoch 16/30\n",
      "110/110 [==============================] - 25s 227ms/step - loss: 0.6007 - accuracy: 0.7909 - val_loss: 1.0188 - val_accuracy: 0.6522\n",
      "Epoch 17/30\n",
      "110/110 [==============================] - 25s 227ms/step - loss: 0.5785 - accuracy: 0.7886 - val_loss: 0.8399 - val_accuracy: 0.7426\n",
      "Epoch 18/30\n",
      "110/110 [==============================] - 25s 230ms/step - loss: 0.5484 - accuracy: 0.8006 - val_loss: 0.7851 - val_accuracy: 0.7413\n",
      "Epoch 19/30\n",
      "110/110 [==============================] - 26s 236ms/step - loss: 0.5326 - accuracy: 0.8039 - val_loss: 0.8622 - val_accuracy: 0.7314\n",
      "Epoch 20/30\n",
      "110/110 [==============================] - 25s 227ms/step - loss: 0.5453 - accuracy: 0.7975 - val_loss: 0.9441 - val_accuracy: 0.7017\n",
      "Epoch 21/30\n",
      "110/110 [==============================] - 25s 227ms/step - loss: 0.4950 - accuracy: 0.8133 - val_loss: 0.8503 - val_accuracy: 0.7129\n",
      "Epoch 22/30\n",
      "110/110 [==============================] - 28s 250ms/step - loss: 0.4870 - accuracy: 0.8156 - val_loss: 0.8850 - val_accuracy: 0.7463\n",
      "Epoch 23/30\n",
      "110/110 [==============================] - 25s 227ms/step - loss: 0.4699 - accuracy: 0.8344 - val_loss: 1.0338 - val_accuracy: 0.6906\n",
      "Epoch 24/30\n",
      "110/110 [==============================] - 25s 229ms/step - loss: 0.4804 - accuracy: 0.8276 - val_loss: 0.9003 - val_accuracy: 0.7153\n",
      "Epoch 25/30\n",
      "110/110 [==============================] - 25s 227ms/step - loss: 0.4377 - accuracy: 0.8377 - val_loss: 0.8856 - val_accuracy: 0.7191\n",
      "Epoch 26/30\n",
      "110/110 [==============================] - 25s 227ms/step - loss: 0.4529 - accuracy: 0.8330 - val_loss: 0.8195 - val_accuracy: 0.7364\n",
      "Epoch 27/30\n",
      "110/110 [==============================] - 25s 227ms/step - loss: 0.4480 - accuracy: 0.8198 - val_loss: 0.9595 - val_accuracy: 0.7067\n",
      "Epoch 28/30\n",
      "110/110 [==============================] - 25s 227ms/step - loss: 0.4033 - accuracy: 0.8574 - val_loss: 1.2151 - val_accuracy: 0.6460\n",
      "Epoch 29/30\n",
      "110/110 [==============================] - 25s 229ms/step - loss: 0.4282 - accuracy: 0.8442 - val_loss: 0.9005 - val_accuracy: 0.7525\n",
      "Epoch 30/30\n",
      "110/110 [==============================] - 25s 227ms/step - loss: 0.4199 - accuracy: 0.8520 - val_loss: 0.9409 - val_accuracy: 0.7290\n"
     ]
    },
    {
     "data": {
      "text/plain": [
       "<tensorflow.python.keras.callbacks.History at 0x7f39aa2c2a30>"
      ]
     },
     "execution_count": 27,
     "metadata": {},
     "output_type": "execute_result"
    }
   ],
   "source": [
    "cnn.fit(x = training_set , validation_data = test_set , epochs = 30)"
   ]
  },
  {
   "cell_type": "code",
   "execution_count": 28,
   "metadata": {},
   "outputs": [
    {
     "data": {
      "text/plain": [
       "{'daisy': 0, 'dandelion': 1, 'rose': 2, 'sunflower': 3, 'tulip': 4}"
      ]
     },
     "execution_count": 28,
     "metadata": {},
     "output_type": "execute_result"
    }
   ],
   "source": [
    "from keras.preprocessing import image\n",
    "test_image = image.load_img('Prediction/daisy.jpg',target_size=(64,64))\n",
    "test_image = image.img_to_array(test_image)\n",
    "test_image = np.expand_dims(test_image,axis=0)\n",
    "result = cnn.predict(test_image)\n",
    "training_set.class_indices"
   ]
  },
  {
   "cell_type": "code",
   "execution_count": 29,
   "metadata": {},
   "outputs": [
    {
     "name": "stdout",
     "output_type": "stream",
     "text": [
      "Daisy\n"
     ]
    }
   ],
   "source": [
    "if result[0][0]==1:\n",
    "    print('Daisy')\n",
    "elif result[0][1]==1:\n",
    "    print('Dandelion')\n",
    "elif result[0][2]==1:\n",
    "    print('Rose')\n",
    "elif result[0][3]==1:\n",
    "    print('SunFlower')\n",
    "elif result[0][4]==1:\n",
    "    print(\"Tulip\")"
   ]
  },
  {
   "cell_type": "code",
   "execution_count": 30,
   "metadata": {},
   "outputs": [
    {
     "name": "stdout",
     "output_type": "stream",
     "text": [
      "[[1. 0. 0. 0. 0.]]\n"
     ]
    }
   ],
   "source": [
    "print(result)"
   ]
  },
  {
   "cell_type": "code",
   "execution_count": null,
   "metadata": {},
   "outputs": [],
   "source": []
  }
 ],
 "metadata": {
  "kernelspec": {
   "display_name": "Python 3",
   "language": "python",
   "name": "python3"
  },
  "language_info": {
   "codemirror_mode": {
    "name": "ipython",
    "version": 3
   },
   "file_extension": ".py",
   "mimetype": "text/x-python",
   "name": "python",
   "nbconvert_exporter": "python",
   "pygments_lexer": "ipython3",
   "version": "3.8.5"
  }
 },
 "nbformat": 4,
 "nbformat_minor": 4
}
