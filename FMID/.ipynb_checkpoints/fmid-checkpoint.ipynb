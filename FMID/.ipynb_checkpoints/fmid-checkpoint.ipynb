{
 "cells": [
  {
   "cell_type": "code",
   "execution_count": 7,
   "metadata": {},
   "outputs": [],
   "source": [
    "# importing library"
   ]
  },
  {
   "cell_type": "code",
   "execution_count": 4,
   "metadata": {},
   "outputs": [],
   "source": [
    "import numpy as np \n",
    "import tensorflow as tf\n",
    "from keras.preprocessing.image import ImageDataGenerator "
   ]
  },
  {
   "cell_type": "code",
   "execution_count": 5,
   "metadata": {},
   "outputs": [],
   "source": [
    "#Data preprocessing"
   ]
  },
  {
   "cell_type": "code",
   "execution_count": 6,
   "metadata": {},
   "outputs": [],
   "source": [
    "#Training image processing"
   ]
  },
  {
   "cell_type": "code",
   "execution_count": 7,
   "metadata": {},
   "outputs": [
    {
     "name": "stdout",
     "output_type": "stream",
     "text": [
      "Found 1010 images belonging to 6 classes.\n"
     ]
    }
   ],
   "source": [
    "train_datagen = ImageDataGenerator(\n",
    "        rescale=1./255,\n",
    "        shear_range=0.2,\n",
    "        zoom_range=0.2,\n",
    "        horizontal_flip=True)\n",
    "training_set = train_datagen.flow_from_directory(\n",
    "        'training_set',\n",
    "        target_size=(64, 64),\n",
    "        batch_size=32,\n",
    "        class_mode='categorical')"
   ]
  },
  {
   "cell_type": "code",
   "execution_count": 12,
   "metadata": {},
   "outputs": [],
   "source": [
    "#testing image processing "
   ]
  },
  {
   "cell_type": "code",
   "execution_count": 8,
   "metadata": {},
   "outputs": [
    {
     "name": "stdout",
     "output_type": "stream",
     "text": [
      "Found 260 images belonging to 6 classes.\n"
     ]
    }
   ],
   "source": [
    "test_datagen = ImageDataGenerator(rescale=1./255)\n",
    "test_set = test_datagen.flow_from_directory(\n",
    "        'testing_set',\n",
    "        target_size=(64, 64),\n",
    "        batch_size=32,\n",
    "        class_mode='categorical')"
   ]
  },
  {
   "cell_type": "code",
   "execution_count": 14,
   "metadata": {},
   "outputs": [],
   "source": [
    "#building model\n"
   ]
  },
  {
   "cell_type": "code",
   "execution_count": 9,
   "metadata": {},
   "outputs": [],
   "source": [
    "cnn = tf.keras.models.Sequential()"
   ]
  },
  {
   "cell_type": "code",
   "execution_count": 10,
   "metadata": {},
   "outputs": [],
   "source": [
    "cnn.add(tf.keras.layers.Conv2D(filters=64 , kernel_size=3 , activation='relu' , input_shape=[64,64,3]))\n",
    "cnn.add(tf.keras.layers.MaxPool2D(pool_size=2,strides=2))"
   ]
  },
  {
   "cell_type": "code",
   "execution_count": 11,
   "metadata": {},
   "outputs": [],
   "source": [
    "cnn.add(tf.keras.layers.Conv2D(filters=64 , kernel_size=3 , activation='relu' ))\n",
    "cnn.add(tf.keras.layers.MaxPool2D(pool_size=2 , strides=2))"
   ]
  },
  {
   "cell_type": "code",
   "execution_count": 12,
   "metadata": {},
   "outputs": [],
   "source": [
    "cnn.add(tf.keras.layers.Dropout(0.5))\n"
   ]
  },
  {
   "cell_type": "code",
   "execution_count": 13,
   "metadata": {},
   "outputs": [],
   "source": [
    "cnn.add(tf.keras.layers.Flatten())"
   ]
  },
  {
   "cell_type": "code",
   "execution_count": 14,
   "metadata": {},
   "outputs": [],
   "source": [
    "cnn.add(tf.keras.layers.Dense(units=128, activation='relu'))"
   ]
  },
  {
   "cell_type": "code",
   "execution_count": 15,
   "metadata": {},
   "outputs": [],
   "source": [
    "cnn.add(tf.keras.layers.Dense(units=6 , activation='softmax'))"
   ]
  },
  {
   "cell_type": "code",
   "execution_count": 16,
   "metadata": {},
   "outputs": [],
   "source": [
    "cnn.compile(optimizer = 'rmsprop' , loss = 'categorical_crossentropy' , metrics = ['accuracy'])"
   ]
  },
  {
   "cell_type": "code",
   "execution_count": 17,
   "metadata": {},
   "outputs": [
    {
     "name": "stdout",
     "output_type": "stream",
     "text": [
      "Epoch 1/30\n",
      "32/32 [==============================] - 13s 367ms/step - loss: 2.0692 - accuracy: 0.2619 - val_loss: 1.5520 - val_accuracy: 0.3423\n",
      "Epoch 2/30\n",
      "32/32 [==============================] - 11s 333ms/step - loss: 1.4508 - accuracy: 0.3916 - val_loss: 1.3367 - val_accuracy: 0.4808\n",
      "Epoch 3/30\n",
      "32/32 [==============================] - 11s 343ms/step - loss: 1.3846 - accuracy: 0.4513 - val_loss: 1.2899 - val_accuracy: 0.4923\n",
      "Epoch 4/30\n",
      "32/32 [==============================] - 11s 342ms/step - loss: 1.3349 - accuracy: 0.4879 - val_loss: 1.1402 - val_accuracy: 0.5577\n",
      "Epoch 5/30\n",
      "32/32 [==============================] - 11s 337ms/step - loss: 1.1827 - accuracy: 0.5525 - val_loss: 1.1469 - val_accuracy: 0.5000\n",
      "Epoch 6/30\n",
      "32/32 [==============================] - 12s 374ms/step - loss: 1.2091 - accuracy: 0.5237 - val_loss: 1.0905 - val_accuracy: 0.5885\n",
      "Epoch 7/30\n",
      "32/32 [==============================] - 11s 347ms/step - loss: 1.1093 - accuracy: 0.5669 - val_loss: 1.0342 - val_accuracy: 0.6192\n",
      "Epoch 8/30\n",
      "32/32 [==============================] - 12s 368ms/step - loss: 1.0973 - accuracy: 0.5765 - val_loss: 1.0757 - val_accuracy: 0.5654\n",
      "Epoch 9/30\n",
      "32/32 [==============================] - 11s 338ms/step - loss: 0.8849 - accuracy: 0.6750 - val_loss: 0.9799 - val_accuracy: 0.6192\n",
      "Epoch 10/30\n",
      "32/32 [==============================] - 11s 330ms/step - loss: 0.8838 - accuracy: 0.6882 - val_loss: 0.9039 - val_accuracy: 0.6962\n",
      "Epoch 11/30\n",
      "32/32 [==============================] - 11s 325ms/step - loss: 0.8565 - accuracy: 0.6921 - val_loss: 1.0694 - val_accuracy: 0.5846\n",
      "Epoch 12/30\n",
      "32/32 [==============================] - 11s 330ms/step - loss: 0.9033 - accuracy: 0.6693 - val_loss: 0.7862 - val_accuracy: 0.7269\n",
      "Epoch 13/30\n",
      "32/32 [==============================] - 11s 347ms/step - loss: 0.7740 - accuracy: 0.7079 - val_loss: 0.9664 - val_accuracy: 0.6538\n",
      "Epoch 14/30\n",
      "32/32 [==============================] - 11s 330ms/step - loss: 0.6909 - accuracy: 0.7568 - val_loss: 0.7880 - val_accuracy: 0.7654\n",
      "Epoch 15/30\n",
      "32/32 [==============================] - 11s 331ms/step - loss: 0.7350 - accuracy: 0.7320 - val_loss: 0.8852 - val_accuracy: 0.7000\n",
      "Epoch 16/30\n",
      "32/32 [==============================] - 11s 334ms/step - loss: 0.7403 - accuracy: 0.7384 - val_loss: 0.7041 - val_accuracy: 0.7577\n",
      "Epoch 17/30\n",
      "32/32 [==============================] - 11s 332ms/step - loss: 0.6059 - accuracy: 0.8014 - val_loss: 0.7288 - val_accuracy: 0.7769\n",
      "Epoch 18/30\n",
      "32/32 [==============================] - 11s 341ms/step - loss: 0.6533 - accuracy: 0.7507 - val_loss: 0.8221 - val_accuracy: 0.7154\n",
      "Epoch 19/30\n",
      "32/32 [==============================] - 12s 373ms/step - loss: 0.5658 - accuracy: 0.7895 - val_loss: 0.8653 - val_accuracy: 0.7154\n",
      "Epoch 20/30\n",
      "32/32 [==============================] - 11s 338ms/step - loss: 0.5477 - accuracy: 0.8042 - val_loss: 0.7341 - val_accuracy: 0.7692\n",
      "Epoch 21/30\n",
      "32/32 [==============================] - 11s 331ms/step - loss: 0.5184 - accuracy: 0.8111 - val_loss: 0.7769 - val_accuracy: 0.7654\n",
      "Epoch 22/30\n",
      "32/32 [==============================] - 11s 321ms/step - loss: 0.4416 - accuracy: 0.8517 - val_loss: 0.9756 - val_accuracy: 0.7192\n",
      "Epoch 23/30\n",
      "32/32 [==============================] - 11s 345ms/step - loss: 0.4927 - accuracy: 0.8104 - val_loss: 0.7990 - val_accuracy: 0.7692\n",
      "Epoch 24/30\n",
      "32/32 [==============================] - 11s 345ms/step - loss: 0.4262 - accuracy: 0.8487 - val_loss: 1.1054 - val_accuracy: 0.6731\n",
      "Epoch 25/30\n",
      "32/32 [==============================] - 11s 326ms/step - loss: 0.4472 - accuracy: 0.8472 - val_loss: 0.9515 - val_accuracy: 0.7615\n",
      "Epoch 26/30\n",
      "32/32 [==============================] - 10s 326ms/step - loss: 0.3752 - accuracy: 0.8606 - val_loss: 0.7119 - val_accuracy: 0.8000\n",
      "Epoch 27/30\n",
      "32/32 [==============================] - 11s 358ms/step - loss: 0.3700 - accuracy: 0.8805 - val_loss: 1.0360 - val_accuracy: 0.7077\n",
      "Epoch 28/30\n",
      "32/32 [==============================] - 11s 343ms/step - loss: 0.3907 - accuracy: 0.8695 - val_loss: 1.2214 - val_accuracy: 0.7077\n",
      "Epoch 29/30\n",
      "32/32 [==============================] - 11s 336ms/step - loss: 0.3475 - accuracy: 0.8779 - val_loss: 0.8491 - val_accuracy: 0.7885\n",
      "Epoch 30/30\n",
      "32/32 [==============================] - 11s 332ms/step - loss: 0.3075 - accuracy: 0.8973 - val_loss: 1.3543 - val_accuracy: 0.7192\n"
     ]
    },
    {
     "data": {
      "text/plain": [
       "<tensorflow.python.keras.callbacks.History at 0x7f9c585eae20>"
      ]
     },
     "execution_count": 17,
     "metadata": {},
     "output_type": "execute_result"
    }
   ],
   "source": [
    "cnn.fit(x = training_set , validation_data = test_set , epochs = 30)"
   ]
  },
  {
   "cell_type": "code",
   "execution_count": 20,
   "metadata": {},
   "outputs": [
    {
     "data": {
      "text/plain": [
       "{'Bansuri': 0,\n",
       " 'Damaha': 1,\n",
       " 'Damaru': 2,\n",
       " 'Madal': 3,\n",
       " 'Murchuga': 4,\n",
       " 'Sarangi': 5}"
      ]
     },
     "execution_count": 20,
     "metadata": {},
     "output_type": "execute_result"
    }
   ],
   "source": [
    "from keras.preprocessing import image\n",
    "test_image = image.load_img('Prediction/bansuri.jpeg',target_size=(64,64))\n",
    "test_image = image.img_to_array(test_image)\n",
    "test_image = np.expand_dims(test_image,axis=0)\n",
    "result = cnn.predict(test_image)\n",
    "training_set.class_indices"
   ]
  },
  {
   "cell_type": "code",
   "execution_count": 21,
   "metadata": {
    "scrolled": true
   },
   "outputs": [
    {
     "name": "stdout",
     "output_type": "stream",
     "text": [
      "Bansuri\n"
     ]
    }
   ],
   "source": [
    "if result[0][0]==1:\n",
    "    print('Bansuri')\n",
    "elif result[0][1]==1:\n",
    "    print('Damaha')\n",
    "elif result[0][2]==1:\n",
    "    print('Damaru')\n",
    "elif result[0][3]==1:\n",
    "    print('Madal')\n",
    "elif result[0][4]==1:\n",
    "    print(\"Murchuga\")\n",
    "elif result[0][5]==1:\n",
    "    print(\"Sarangi\")"
   ]
  },
  {
   "cell_type": "code",
   "execution_count": 22,
   "metadata": {},
   "outputs": [
    {
     "name": "stdout",
     "output_type": "stream",
     "text": [
      "[[1. 0. 0. 0. 0. 0.]]\n"
     ]
    }
   ],
   "source": [
    "print(result)"
   ]
  },
  {
   "cell_type": "code",
   "execution_count": null,
   "metadata": {},
   "outputs": [],
   "source": []
  }
 ],
 "metadata": {
  "kernelspec": {
   "display_name": "Python 3",
   "language": "python",
   "name": "python3"
  },
  "language_info": {
   "codemirror_mode": {
    "name": "ipython",
    "version": 3
   },
   "file_extension": ".py",
   "mimetype": "text/x-python",
   "name": "python",
   "nbconvert_exporter": "python",
   "pygments_lexer": "ipython3",
   "version": "3.8.5"
  }
 },
 "nbformat": 4,
 "nbformat_minor": 4
}
