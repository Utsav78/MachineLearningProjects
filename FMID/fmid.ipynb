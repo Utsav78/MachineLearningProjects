{
 "cells": [
  {
   "cell_type": "code",
   "execution_count": 1,
   "metadata": {},
   "outputs": [],
   "source": [
    "# importing library"
   ]
  },
  {
   "cell_type": "code",
   "execution_count": 2,
   "metadata": {},
   "outputs": [],
   "source": [
    "import numpy as np \n",
    "import tensorflow as tf\n",
    "from keras.preprocessing.image import ImageDataGenerator "
   ]
  },
  {
   "cell_type": "code",
   "execution_count": 3,
   "metadata": {},
   "outputs": [],
   "source": [
    "#Data preprocessing"
   ]
  },
  {
   "cell_type": "code",
   "execution_count": 4,
   "metadata": {},
   "outputs": [],
   "source": [
    "#Training image processing"
   ]
  },
  {
   "cell_type": "code",
   "execution_count": 6,
   "metadata": {},
   "outputs": [
    {
     "name": "stdout",
     "output_type": "stream",
     "text": [
      "Found 1010 images belonging to 6 classes.\n"
     ]
    }
   ],
   "source": [
    "train_datagen = ImageDataGenerator(\n",
    "        rescale=1./255,\n",
    "        shear_range=0.2,\n",
    "        zoom_range=0.2,\n",
    "        horizontal_flip=True)\n",
    "training_set = train_datagen.flow_from_directory(\n",
    "        'training_set',\n",
    "        target_size=(64, 64),\n",
    "        batch_size=32,\n",
    "        class_mode='categorical')"
   ]
  },
  {
   "cell_type": "code",
   "execution_count": 7,
   "metadata": {},
   "outputs": [],
   "source": [
    "#testing image processing "
   ]
  },
  {
   "cell_type": "code",
   "execution_count": 8,
   "metadata": {},
   "outputs": [
    {
     "name": "stdout",
     "output_type": "stream",
     "text": [
      "Found 260 images belonging to 6 classes.\n"
     ]
    }
   ],
   "source": [
    "test_datagen = ImageDataGenerator(rescale=1./255)\n",
    "test_set = test_datagen.flow_from_directory(\n",
    "        'testing_set',\n",
    "        target_size=(64, 64),\n",
    "        batch_size=32,\n",
    "        class_mode='categorical')"
   ]
  },
  {
   "cell_type": "code",
   "execution_count": 9,
   "metadata": {},
   "outputs": [],
   "source": [
    "#building model\n"
   ]
  },
  {
   "cell_type": "code",
   "execution_count": 10,
   "metadata": {},
   "outputs": [],
   "source": [
    "cnn = tf.keras.models.Sequential()"
   ]
  },
  {
   "cell_type": "code",
   "execution_count": 11,
   "metadata": {},
   "outputs": [],
   "source": [
    "cnn.add(tf.keras.layers.Conv2D(filters=64 , kernel_size=3 , activation='relu' , input_shape=[64,64,3]))\n",
    "cnn.add(tf.keras.layers.MaxPool2D(pool_size=2,strides=2))"
   ]
  },
  {
   "cell_type": "code",
   "execution_count": 12,
   "metadata": {},
   "outputs": [],
   "source": [
    "cnn.add(tf.keras.layers.Conv2D(filters=64 , kernel_size=3 , activation='relu' ))\n",
    "cnn.add(tf.keras.layers.MaxPool2D(pool_size=2 , strides=2))"
   ]
  },
  {
   "cell_type": "code",
   "execution_count": 13,
   "metadata": {},
   "outputs": [],
   "source": [
    "cnn.add(tf.keras.layers.Dropout(0.5))\n"
   ]
  },
  {
   "cell_type": "code",
   "execution_count": 14,
   "metadata": {},
   "outputs": [],
   "source": [
    "cnn.add(tf.keras.layers.Flatten())"
   ]
  },
  {
   "cell_type": "code",
   "execution_count": 15,
   "metadata": {},
   "outputs": [],
   "source": [
    "cnn.add(tf.keras.layers.Dense(units=128, activation='relu'))"
   ]
  },
  {
   "cell_type": "code",
   "execution_count": 16,
   "metadata": {},
   "outputs": [],
   "source": [
    "cnn.add(tf.keras.layers.Dense(units=6 , activation='softmax'))"
   ]
  },
  {
   "cell_type": "code",
   "execution_count": 17,
   "metadata": {},
   "outputs": [],
   "source": [
    "cnn.compile(optimizer = 'rmsprop' , loss = 'categorical_crossentropy' , metrics = ['accuracy'])"
   ]
  },
  {
   "cell_type": "code",
   "execution_count": 18,
   "metadata": {},
   "outputs": [
    {
     "name": "stdout",
     "output_type": "stream",
     "text": [
      "Epoch 1/30\n",
      "32/32 [==============================] - 14s 416ms/step - loss: 1.9608 - accuracy: 0.3175 - val_loss: 1.6352 - val_accuracy: 0.3962\n",
      "Epoch 2/30\n",
      "32/32 [==============================] - 10s 328ms/step - loss: 1.5258 - accuracy: 0.3919 - val_loss: 1.4639 - val_accuracy: 0.4308\n",
      "Epoch 3/30\n",
      "32/32 [==============================] - 10s 328ms/step - loss: 1.3445 - accuracy: 0.4578 - val_loss: 1.3334 - val_accuracy: 0.3654\n",
      "Epoch 4/30\n",
      "32/32 [==============================] - 10s 328ms/step - loss: 1.3125 - accuracy: 0.4793 - val_loss: 1.1746 - val_accuracy: 0.5385\n",
      "Epoch 5/30\n",
      "32/32 [==============================] - 10s 327ms/step - loss: 1.1933 - accuracy: 0.5341 - val_loss: 1.0533 - val_accuracy: 0.6077\n",
      "Epoch 6/30\n",
      "32/32 [==============================] - 11s 330ms/step - loss: 1.0991 - accuracy: 0.5905 - val_loss: 1.0793 - val_accuracy: 0.5423\n",
      "Epoch 7/30\n",
      "32/32 [==============================] - 11s 330ms/step - loss: 1.0940 - accuracy: 0.5935 - val_loss: 1.0346 - val_accuracy: 0.5769\n",
      "Epoch 8/30\n",
      "32/32 [==============================] - 11s 331ms/step - loss: 1.0470 - accuracy: 0.6203 - val_loss: 1.1984 - val_accuracy: 0.5423\n",
      "Epoch 9/30\n",
      "32/32 [==============================] - 11s 336ms/step - loss: 0.9731 - accuracy: 0.6292 - val_loss: 0.9163 - val_accuracy: 0.6962\n",
      "Epoch 10/30\n",
      "32/32 [==============================] - 11s 330ms/step - loss: 0.8783 - accuracy: 0.6721 - val_loss: 0.8155 - val_accuracy: 0.7423\n",
      "Epoch 11/30\n",
      "32/32 [==============================] - 10s 325ms/step - loss: 0.8269 - accuracy: 0.7014 - val_loss: 0.7953 - val_accuracy: 0.7077\n",
      "Epoch 12/30\n",
      "32/32 [==============================] - 10s 327ms/step - loss: 0.7921 - accuracy: 0.6919 - val_loss: 0.8758 - val_accuracy: 0.6923\n",
      "Epoch 13/30\n",
      "32/32 [==============================] - 10s 326ms/step - loss: 0.7985 - accuracy: 0.7052 - val_loss: 0.7696 - val_accuracy: 0.7385\n",
      "Epoch 14/30\n",
      "32/32 [==============================] - 11s 330ms/step - loss: 0.6789 - accuracy: 0.7466 - val_loss: 1.0217 - val_accuracy: 0.6462\n",
      "Epoch 15/30\n",
      "32/32 [==============================] - 11s 328ms/step - loss: 0.6778 - accuracy: 0.7763 - val_loss: 0.8674 - val_accuracy: 0.6885\n",
      "Epoch 16/30\n",
      "32/32 [==============================] - 10s 325ms/step - loss: 0.6716 - accuracy: 0.7516 - val_loss: 0.7700 - val_accuracy: 0.7500\n",
      "Epoch 17/30\n",
      "32/32 [==============================] - 10s 327ms/step - loss: 0.5990 - accuracy: 0.7836 - val_loss: 1.1360 - val_accuracy: 0.6269\n",
      "Epoch 18/30\n",
      "32/32 [==============================] - 10s 328ms/step - loss: 0.5441 - accuracy: 0.8054 - val_loss: 0.7816 - val_accuracy: 0.7500\n",
      "Epoch 19/30\n",
      "32/32 [==============================] - 10s 328ms/step - loss: 0.5807 - accuracy: 0.8002 - val_loss: 0.7856 - val_accuracy: 0.7846\n",
      "Epoch 20/30\n",
      "32/32 [==============================] - 11s 332ms/step - loss: 0.5519 - accuracy: 0.8036 - val_loss: 0.8158 - val_accuracy: 0.7500\n",
      "Epoch 21/30\n",
      "32/32 [==============================] - 11s 331ms/step - loss: 0.4799 - accuracy: 0.8245 - val_loss: 0.8385 - val_accuracy: 0.7500\n",
      "Epoch 22/30\n",
      "32/32 [==============================] - 11s 330ms/step - loss: 0.4562 - accuracy: 0.8396 - val_loss: 0.9613 - val_accuracy: 0.7346\n",
      "Epoch 23/30\n",
      "32/32 [==============================] - 11s 331ms/step - loss: 0.4980 - accuracy: 0.8173 - val_loss: 0.7605 - val_accuracy: 0.7769\n",
      "Epoch 24/30\n",
      "32/32 [==============================] - 10s 333ms/step - loss: 0.3980 - accuracy: 0.8557 - val_loss: 0.7807 - val_accuracy: 0.7923\n",
      "Epoch 25/30\n",
      "32/32 [==============================] - 10s 327ms/step - loss: 0.4269 - accuracy: 0.8456 - val_loss: 0.7263 - val_accuracy: 0.7654\n",
      "Epoch 26/30\n",
      "32/32 [==============================] - 11s 329ms/step - loss: 0.3951 - accuracy: 0.8706 - val_loss: 0.7569 - val_accuracy: 0.7885\n",
      "Epoch 27/30\n",
      "32/32 [==============================] - 10s 329ms/step - loss: 0.3384 - accuracy: 0.8830 - val_loss: 0.7978 - val_accuracy: 0.7808\n",
      "Epoch 28/30\n",
      "32/32 [==============================] - 11s 330ms/step - loss: 0.3511 - accuracy: 0.8663 - val_loss: 0.7901 - val_accuracy: 0.7846\n",
      "Epoch 29/30\n",
      "32/32 [==============================] - 10s 326ms/step - loss: 0.3732 - accuracy: 0.8841 - val_loss: 0.7429 - val_accuracy: 0.7923\n",
      "Epoch 30/30\n",
      "32/32 [==============================] - 11s 329ms/step - loss: 0.2756 - accuracy: 0.9078 - val_loss: 0.7875 - val_accuracy: 0.7923\n"
     ]
    },
    {
     "data": {
      "text/plain": [
       "<tensorflow.python.keras.callbacks.History at 0x7fdbe679d820>"
      ]
     },
     "execution_count": 18,
     "metadata": {},
     "output_type": "execute_result"
    }
   ],
   "source": [
    "cnn.fit(x = training_set , validation_data = test_set , epochs = 30)"
   ]
  },
  {
   "cell_type": "code",
   "execution_count": 24,
   "metadata": {},
   "outputs": [
    {
     "data": {
      "text/plain": [
       "{'Bansuri': 0,\n",
       " 'Damaha': 1,\n",
       " 'Damaru': 2,\n",
       " 'Madal': 3,\n",
       " 'Murchuga': 4,\n",
       " 'Sarangi': 5}"
      ]
     },
     "execution_count": 24,
     "metadata": {},
     "output_type": "execute_result"
    }
   ],
   "source": [
    "from keras.preprocessing import image\n",
    "test_image = image.load_img('Prediction/madal.jpeg',target_size=(64,64))\n",
    "test_image = image.img_to_array(test_image)\n",
    "test_image = np.expand_dims(test_image,axis=0)\n",
    "result = cnn.predict(test_image)\n",
    "training_set.class_indices"
   ]
  },
  {
   "cell_type": "code",
   "execution_count": 25,
   "metadata": {
    "scrolled": true
   },
   "outputs": [
    {
     "name": "stdout",
     "output_type": "stream",
     "text": [
      "Madal\n"
     ]
    }
   ],
   "source": [
    "if result[0][0]==1:\n",
    "    print('Bansuri')\n",
    "elif result[0][1]==1:\n",
    "    print('Damaha')\n",
    "elif result[0][2]==1:\n",
    "    print('Damaru')\n",
    "elif result[0][3]==1:\n",
    "    print('Madal')\n",
    "elif result[0][4]==1:\n",
    "    print(\"Murchuga\")\n",
    "elif result[0][5]==1:\n",
    "    print(\"Sarangi\")"
   ]
  },
  {
   "cell_type": "code",
   "execution_count": 26,
   "metadata": {},
   "outputs": [
    {
     "name": "stdout",
     "output_type": "stream",
     "text": [
      "[[0. 0. 0. 1. 0. 0.]]\n"
     ]
    }
   ],
   "source": [
    "print(result)"
   ]
  },
  {
   "cell_type": "code",
   "execution_count": null,
   "metadata": {},
   "outputs": [],
   "source": []
  }
 ],
 "metadata": {
  "kernelspec": {
   "display_name": "Python 3",
   "language": "python",
   "name": "python3"
  },
  "language_info": {
   "codemirror_mode": {
    "name": "ipython",
    "version": 3
   },
   "file_extension": ".py",
   "mimetype": "text/x-python",
   "name": "python",
   "nbconvert_exporter": "python",
   "pygments_lexer": "ipython3",
   "version": "3.8.5"
  }
 },
 "nbformat": 4,
 "nbformat_minor": 4
}
